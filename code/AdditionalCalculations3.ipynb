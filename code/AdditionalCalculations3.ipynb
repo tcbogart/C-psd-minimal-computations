{
 "cells": [
  {
   "cell_type": "code",
   "execution_count": 7,
   "metadata": {},
   "outputs": [
    {
     "name": "stdout",
     "output_type": "stream",
     "text": [
      "[   0    0    1 x_14 x_15    1    0]\n",
      "[   1    0    0    1 x_25 x_26 x_27]\n",
      "[x_31    1    0    0    1 x_36 x_37]\n",
      "[   1 x_42    1    0    0 x_46 x_47]\n",
      "[x_51    1 x_53    1    0    0 x_57]\n",
      "[   0 x_62 x_63 x_64    1    0 x_67]\n",
      "True\n",
      "True\n",
      "True\n"
     ]
    }
   ],
   "source": [
    "x = [var('x_%s'%i + '%s'%j) for i in range(1,8) for j in range(1,8)]\n",
    "R = PolynomialRing(CC, x)\n",
    "M = Matrix([[0,0,1,x_14,x_15,1,0],[1,0,0,1,x_25,x_26,x_27],[x_31,1,0,0,1,x_36,x_37],[1,x_42,1,0,0,x_46,x_47],[x_51,1,x_53,1,0,0,x_57],[0,x_62,x_63,x_64,1,0,x_67]])\n",
    "print M\n",
    "print -(x_14 - x_31*x_42 + 1) in M.minors(4)\n",
    "print x_62*x_27*x_31 - x_62*x_37 + x_67 in M.minors(4)\n",
    "print x_42*x_67 - x_62*x_47 + x_62*x_27 in M.minors(4)"
   ]
  },
  {
   "cell_type": "code",
   "execution_count": 8,
   "metadata": {},
   "outputs": [
    {
     "name": "stdout",
     "output_type": "stream",
     "text": [
      "[   0    0    1 x_14 x_15    1    1]\n",
      "[   1    0    0    1 x_25 x_26 x_27]\n",
      "[x_31    1    0    0    1 x_36 x_37]\n",
      "[   1 x_42    1    0    0    1 x_47]\n",
      "[   1    1 x_53    1    0    0 x_57]\n",
      "[   0    1 x_63 x_64    1    0 x_67]\n",
      "True\n",
      "True\n",
      "True\n",
      "True\n",
      "True\n",
      "True\n",
      "True\n",
      "True\n"
     ]
    }
   ],
   "source": [
    "x = [var('x_%s'%i + '%s'%j) for i in range(1,8) for j in range(1,8)]\n",
    "R = PolynomialRing(CC, x)\n",
    "M = Matrix([[0,0,1,x_14,x_15,1,1],[1,0,0,1,x_25,x_26,x_27],[x_31,1,0,0,1,x_36,x_37],[1,x_42,1,0,0,1,x_47],[1,1,x_53,1,0,0,x_57],[0,1,x_63,x_64,1,0,x_67]])\n",
    "print M\n",
    "I = R.ideal(M.minors(4))\n",
    "print x_15 - 1 + x_42 in I\n",
    "print x_42*x_53 - x_15*x_26 in I\n",
    "print x_25*x_31 - x_53 in I\n",
    "print x_53 - x_15*x_63 in I\n",
    "print x_25 - x_15*x_26 + 1 in I\n",
    "print x_37 - x_31*x_27 + x_63 - x_67 in I\n",
    "print x_47 - x_27 - x_42*x_67 + x_26 - 1 in I\n",
    "print x_57 + x_26 - x_27 -x_67 in I"
   ]
  }
 ],
 "metadata": {
  "kernelspec": {
   "display_name": "SageMath 8.7",
   "language": "",
   "name": "sagemath"
  },
  "language_info": {
   "codemirror_mode": {
    "name": "ipython",
    "version": 2
   },
   "file_extension": ".py",
   "mimetype": "text/x-python",
   "name": "python",
   "nbconvert_exporter": "python",
   "pygments_lexer": "ipython2",
   "version": "2.7.15"
  }
 },
 "nbformat": 4,
 "nbformat_minor": 2
}
