{
 "cells": [
  {
   "cell_type": "code",
   "execution_count": 18,
   "metadata": {},
   "outputs": [
    {
     "name": "stdout",
     "output_type": "stream",
     "text": [
      "[   0    0    1 x_14 x_15    1]\n",
      "[   1    0    0    1 x_25 x_26]\n",
      "[x_31    1    0    0    1 x_36]\n",
      "[   1 x_42    1    0    0 x_46]\n",
      "[x_51    1 x_53    1    0    0]\n",
      "[x_61 x_62 x_63 x_64    1    0]\n",
      "x_42*x_53 - x_25 - 1.00000000000000\n",
      "x_15*x_26 - x_25 - x_46\n",
      "x_42*x_51 + x_15 - 1.00000000000000\n",
      "x_14*x_25 - x_15 - x_42\n",
      "x_25*x_36 - x_46*x_53 - x_26\n",
      "x_46*x_53*x_62 - x_46*x_63 + x_26\n",
      "x_31*x_42 - x_14 - 1.00000000000000\n",
      "x_46*x_51*x_62 - x_46*x_61 - 1.00000000000000\n",
      "True\n",
      "True\n",
      "True\n",
      "True\n",
      "True\n",
      "True\n",
      "True\n",
      "True\n"
     ]
    }
   ],
   "source": [
    "x = [var('x_%s'%i+'%s'%j) for i in range(1,7) for j in range(1,7)]\n",
    "R = PolynomialRing(CC, x)\n",
    "M = Matrix([[0,0,1,x_14,x_15,1],[1,0,0,1,x_25,x_26],[x_31,1,0,0,1,x_36],[1,x_42,1,0,0,x_46],[x_51,1,x_53,1,0,0],[x_61,x_62,x_63,x_64,1,0]])\n",
    "print M\n",
    "I = R.ideal(M.minors(4))\n",
    "\n",
    "# Calculating a Groebner Basis\n",
    "B = I.groebner_basis()\n",
    "print B[46]\n",
    "print B[35]\n",
    "print B[44]\n",
    "print B[33]\n",
    "print B[40]\n",
    "print B[25]\n",
    "print B[41]\n",
    "print B[23]\n",
    "\n",
    "#Checking Membership\n",
    "print x_25 - x_42*x_53 + 1 in I\n",
    "print x_46 - x_15*x_26 + x_25 in I\n",
    "print x_42*x_51 - 1 + x_15 in I\n",
    "print x_15 - x_14*x_25 + x_42 in I\n",
    "print x_26 - x_25*x_36 + x_46*x_53 in I\n",
    "print x_46*x_53*x_62 - x_46*x_63 + x_26 in I\n",
    "print x_14 - x_31*x_42 + 1 in I\n",
    "print x_46*x_61 - x_46*x_51*x_62 + 1 in I"
   ]
  },
  {
   "cell_type": "code",
   "execution_count": null,
   "metadata": {},
   "outputs": [],
   "source": []
  }
 ],
 "metadata": {
  "kernelspec": {
   "display_name": "SageMath 8.7",
   "language": "",
   "name": "sagemath"
  },
  "language_info": {
   "codemirror_mode": {
    "name": "ipython",
    "version": 2
   },
   "file_extension": ".py",
   "mimetype": "text/x-python",
   "name": "python",
   "nbconvert_exporter": "python",
   "pygments_lexer": "ipython2",
   "version": "2.7.15"
  }
 },
 "nbformat": 4,
 "nbformat_minor": 2
}
