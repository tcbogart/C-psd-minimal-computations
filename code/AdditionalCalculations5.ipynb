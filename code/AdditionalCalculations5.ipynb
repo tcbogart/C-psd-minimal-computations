{
 "cells": [
  {
   "cell_type": "code",
   "execution_count": 7,
   "metadata": {},
   "outputs": [
    {
     "name": "stdout",
     "output_type": "stream",
     "text": [
      "4\n",
      "4\n"
     ]
    }
   ],
   "source": [
    "# complex psd-minimal 3-polytopes with a vertex of degree 6 \n",
    "M = Matrix([[0,0,0,1,-I,1/2+I/2,1],[0,1,0,0,1,I,2],[0,2,1,0,0,1,2-2*I],[0,1,1/2-I/2,1,0,0,1],[0,1,1,2*I,1,0,0],[0,0,1,2+2*I,-2*I,1,0],[1,0,0,0,0,0,0]])\n",
    "S = M.elementwise_product(M.conjugate())\n",
    "print M.rank()\n",
    "print S.rank()"
   ]
  },
  {
   "cell_type": "code",
   "execution_count": 8,
   "metadata": {},
   "outputs": [
    {
     "name": "stdout",
     "output_type": "stream",
     "text": [
      "4\n",
      "4\n"
     ]
    }
   ],
   "source": [
    "M = Matrix([[0,0,0,1,-I,1/2+I/2,1],[0,1,0,0,1,I,2],[0,2,1,0,0,1,2-2*I],[0,1,1/2-I/2,1,0,0,1],[0,1,1,2*I,1,0,0],[0,0,1,2+2*I,-2*I,1,0],[1,0,-I,2,0,0,0],[1,0,0,0,0,1,-2*I]])\n",
    "S = M.elementwise_product(M.conjugate())\n",
    "print M.rank()\n",
    "print S.rank()"
   ]
  },
  {
   "cell_type": "code",
   "execution_count": 9,
   "metadata": {},
   "outputs": [
    {
     "name": "stdout",
     "output_type": "stream",
     "text": [
      "4\n",
      "4\n"
     ]
    }
   ],
   "source": [
    "M = Matrix([[0,0,0,1,-I,1/2+I/2,1],[0,1,0,0,1,I,2],[0,2,1,0,0,1,2-2*I],[0,1,1/2-I/2,1,0,0,1],[0,1,1,2*I,1,0,0],[0,0,1,2+2*I,-2*I,1,0],[1,0,0,1,0,1/2+I/2,1],[1,-I,0,0,0,1,-2*I],[1,-I,-I,2,0,0,0],[1,0,1/2,1+I,0,1/2,0]])\n",
    "S = M.elementwise_product(M.conjugate())\n",
    "print M.rank()\n",
    "print S.rank()"
   ]
  },
  {
   "cell_type": "code",
   "execution_count": 10,
   "metadata": {},
   "outputs": [
    {
     "name": "stdout",
     "output_type": "stream",
     "text": [
      "4\n",
      "4\n"
     ]
    }
   ],
   "source": [
    "M = Matrix([[0,0,0,1,-I,1/2+I/2,1],[0,1,0,0,1,I,2],[0,2,1,0,0,1,2-2*I],[0,1,1/2-I/2,1,0,0,1],[0,1,1,2*I,1,0,0],[0,0,1,2+2*I,-2*I,1,0],[1,0,0,0,2,2*I,2+2*I],[1,-2*I,-2*I,2-2*I,0,0,0],[1,0,1,0,0,1,0]])\n",
    "S = M.elementwise_product(M.conjugate())\n",
    "print M.rank()\n",
    "print S.rank()"
   ]
  },
  {
   "cell_type": "code",
   "execution_count": 11,
   "metadata": {},
   "outputs": [
    {
     "name": "stdout",
     "output_type": "stream",
     "text": [
      "4\n",
      "4\n"
     ]
    }
   ],
   "source": [
    "# complex psd-minimal 3-polytopes with 6 vertices (excluding the triangular prism and the octahedron)\n",
    "M = Matrix([[0,0,1,1,0,1],[1,0,1,1-I,0,0],[I,0,0,1,1,0],[I,1,0,0,1,0],[1,1-I,1,0,0,0],[0,1,1,0,0,1],[0,0,0,0,-I,1]])\n",
    "S = M.elementwise_product(M.conjugate())\n",
    "print M.rank()\n",
    "print S.rank()"
   ]
  },
  {
   "cell_type": "code",
   "execution_count": 12,
   "metadata": {},
   "outputs": [
    {
     "name": "stdout",
     "output_type": "stream",
     "text": [
      "[  0   1   1   0   0   0]\n",
      "[  0   0   1   1   1   0]\n",
      "[  1   1   0   0   0   1]\n",
      "[  0   0   0   0 1/2   1]\n",
      "[  1   0   0   1 1/2   0]\n",
      "[  2   1   0   1   0   0]\n",
      "4\n",
      "4\n"
     ]
    }
   ],
   "source": [
    "M = Matrix([[0,1,1,0,0,0],[0,0,1,1,1,0],[1,1,0,0,0,1],[0,0,0,0,1/2+I/2,1],[1,0,0,1,1/2-I/2,0],[1+I,1,0,I,0,0]])\n",
    "S = M.elementwise_product(M.conjugate())\n",
    "print S\n",
    "print M.rank()\n",
    "print S.rank()"
   ]
  },
  {
   "cell_type": "code",
   "execution_count": 13,
   "metadata": {},
   "outputs": [
    {
     "name": "stdout",
     "output_type": "stream",
     "text": [
      "4\n",
      "4\n"
     ]
    }
   ],
   "source": [
    "# complex psd-minimal 3-polytopes with 7 vertices (excluding one that is the dual of one of 6 vertices)\n",
    "M = Matrix([[0,0,0,1,1,0,1],[0,1,0,0,1,1,1+I],[0,1,1,0,0,1+I,I],[0,0,1,1,0,I,0],[1,1,0,0,0,1/2-I/2,0],[1,1/2+I/2,0,1,1/2+I/2,0,0],[1,0,1/2-I/2,3/2+I/2,I,0,0]])\n",
    "S = M.elementwise_product(M.conjugate())\n",
    "print M.rank()\n",
    "print S.rank()"
   ]
  },
  {
   "cell_type": "code",
   "execution_count": 14,
   "metadata": {},
   "outputs": [
    {
     "name": "stdout",
     "output_type": "stream",
     "text": [
      "4\n",
      "4\n"
     ]
    }
   ],
   "source": [
    "M = Matrix([[0,0,0,1,1,1,1],[0,1,0,0,1,1+I,1],[0,1,1,0,0,I,1],[0,0,1,1,0,0,1],[1,0,1,1,I,0,0],[1,0,0,1,1+I,1,0],[1,1,0,0,1+I,1+I,0],[1,1,1+I,0,0,0,0]])\n",
    "S = M.elementwise_product(M.conjugate())\n",
    "print M.rank()\n",
    "print S.rank()"
   ]
  },
  {
   "cell_type": "code",
   "execution_count": 15,
   "metadata": {},
   "outputs": [
    {
     "name": "stdout",
     "output_type": "stream",
     "text": [
      "4\n",
      "4\n"
     ]
    }
   ],
   "source": [
    "M = Matrix([[0,0,0,1,1,I,1],[0,1,0,0,1,0,1-I],[0,1,1,0,0,1,-I],[0,0,1,1,0,1+I,0],[1,0,0,1,1/2-I/2,1/2+I/2,0],[1,1/2,0,1/2+I/2,1/2,0,0],[1,1/2+I/2,I/2,I/2,0,0,0],[1,I,-1/2+I/2,0,0,0,1/2+I/2]])\n",
    "S = M.elementwise_product(M.conjugate())\n",
    "print M.rank()\n",
    "print S.rank()"
   ]
  },
  {
   "cell_type": "code",
   "execution_count": 16,
   "metadata": {},
   "outputs": [
    {
     "name": "stdout",
     "output_type": "stream",
     "text": [
      "4\n",
      "4\n"
     ]
    }
   ],
   "source": [
    "M = Matrix([[0,0,0,I,1,-I/2,1+3*I/2],[0,1,0,0,1,0,I],[0,0,2*I,0,0,1,1],[1,0,0,I,0,0,I],[I,1+I,I,0,1,0,0],[1,1,1+2*I,0,0,1,0],[1-I,1,1,1,0,0,0]])\n",
    "S = M.elementwise_product(M.conjugate())\n",
    "print M.rank()\n",
    "print S.rank()"
   ]
  },
  {
   "cell_type": "code",
   "execution_count": 18,
   "metadata": {},
   "outputs": [
    {
     "name": "stdout",
     "output_type": "stream",
     "text": [
      "4\n",
      "4\n"
     ]
    }
   ],
   "source": [
    "M = Matrix([[0,0,0,1,1/2+I/2,1,1],[0,1,0,0,1,1-I,1],[0,0,I,1+I,0,1+I,1],[1,0,0,1+I,1,0,1],[1,I,0,0,1,0,0],[0,1,1,0,0,1-I,0],[1,0,1,1+I,0,0,0]])\n",
    "S = M.elementwise_product(M.conjugate())\n",
    "print M.rank()\n",
    "print S.rank()"
   ]
  },
  {
   "cell_type": "code",
   "execution_count": null,
   "metadata": {},
   "outputs": [],
   "source": []
  }
 ],
 "metadata": {
  "kernelspec": {
   "display_name": "SageMath 8.7",
   "language": "",
   "name": "sagemath"
  },
  "language_info": {
   "codemirror_mode": {
    "name": "ipython",
    "version": 2
   },
   "file_extension": ".py",
   "mimetype": "text/x-python",
   "name": "python",
   "nbconvert_exporter": "python",
   "pygments_lexer": "ipython2",
   "version": "2.7.15"
  }
 },
 "nbformat": 4,
 "nbformat_minor": 2
}
