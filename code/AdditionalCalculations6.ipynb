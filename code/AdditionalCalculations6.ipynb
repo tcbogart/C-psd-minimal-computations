{
 "cells": [
  {
   "cell_type": "code",
   "execution_count": 3,
   "metadata": {},
   "outputs": [
    {
     "name": "stdout",
     "output_type": "stream",
     "text": [
      "[   0    0    0    1    1 x_16    1]\n",
      "[   0    1    0    0    1 x_26 x_27]\n",
      "[   0    1    1    0    0    0 x_37]\n",
      "[   0    0    1    1    0    1    0]\n",
      "[   1    1    0    0 x_55    0 x_57]\n",
      "[   1    0    0 x_64 x_65    0    0]\n",
      "[   1 x_72 x_73 x_74    0    0    0]\n",
      "True\n",
      "True\n",
      "True\n"
     ]
    }
   ],
   "source": [
    "x = [var('x_%s'%i+'%s'%j) for i in range(1,8) for j in range(1,8)]\n",
    "R = PolynomialRing(CC, x)\n",
    "M = Matrix([[0,0,0,1,1,x_16,1],[0,1,0,0,1,x_26,x_27],[0,1,1,0,0,0,x_37],[0,0,1,1,0,1,0],[1,1,0,0,x_55,0,x_57],[1,0,0,x_64,x_65,0,0],[1,x_72,x_73,x_74,0,0,0]])\n",
    "print M\n",
    "I = R.ideal(M.minors(5))\n",
    "print x_37 - x_27 + 1 in I\n",
    "print x_16*x_37 - x_16*x_57 + 1 in I\n",
    "print x_26 - x_16 + 1 in I"
   ]
  },
  {
   "cell_type": "code",
   "execution_count": null,
   "metadata": {},
   "outputs": [],
   "source": []
  }
 ],
 "metadata": {
  "kernelspec": {
   "display_name": "SageMath 8.7",
   "language": "",
   "name": "sagemath"
  },
  "language_info": {
   "codemirror_mode": {
    "name": "ipython",
    "version": 2
   },
   "file_extension": ".py",
   "mimetype": "text/x-python",
   "name": "python",
   "nbconvert_exporter": "python",
   "pygments_lexer": "ipython2",
   "version": "2.7.15"
  }
 },
 "nbformat": 4,
 "nbformat_minor": 2
}
