{
 "cells": [
  {
   "cell_type": "code",
   "execution_count": 1,
   "metadata": {},
   "outputs": [
    {
     "name": "stdout",
     "output_type": "stream",
     "text": [
      "1.00000000000000\n"
     ]
    }
   ],
   "source": [
    "A = var('A')\n",
    "assume(A,'real')\n",
    "assume(A!=0)\n",
    "c = var('c')\n",
    "assume(c,'real')\n",
    "assume(c!=0)\n",
    "s = var('s')\n",
    "assume(s,'real')\n",
    "assume(s!=0)\n",
    "a_27 = var('a_27')\n",
    "assume(a_27,'real')\n",
    "b_27 = var('b_27')\n",
    "assume(b_27,'real')\n",
    "a_67 = var('a_67')\n",
    "assume(a_67,'real')\n",
    "b_67 = var('b_67')\n",
    "assume(b_67,'real')\n",
    "\n",
    "zeta_26 = 1 + A*s/c + (A-s/c)*I\n",
    "zeta_31 = 1 + c/(A*s) + (c/s-1/A)*I\n",
    "zeta_42 = s**2-c*s*I\n",
    "zeta_63 = 2 + A*(s/c-c/s) + (2*A+c/s-s/c)*I\n",
    "zeta_27 = a_27 + b_27*I\n",
    "zeta_67 = a_67 + b_67*I\n",
    "\n",
    "alpha_26 = (1+A**2)/(c**2)\n",
    "alpha_31 = (1+A**2)/((A*s)**2)\n",
    "alpha_42 = s**2\n",
    "alpha_63 = (1+A**2)/((c*s)**2)\n",
    "alpha_27 = a_27**2 + b_27**2\n",
    "alpha_67 = a_67**2 + b_67**2\n",
    "\n",
    "zeta_37 = zeta_31*zeta_27 - zeta_63 + zeta_67\n",
    "zeta_47 = zeta_27 + zeta_42*zeta_67 - zeta_26 + 1\n",
    "zeta_57 = zeta_27 + zeta_67 - zeta_26\n",
    "\n",
    "alpha_37 = alpha_31*alpha_27 - alpha_63 + alpha_67\n",
    "alpha_47 = alpha_27 + alpha_42*alpha_67 - alpha_26 + 1\n",
    "alpha_57 = alpha_27 + alpha_67 - alpha_26 \n",
    "\n",
    "f_1 = (alpha_37 - zeta_37*zeta_37.conjugate()).numerator()\n",
    "f_2 = (alpha_47 - zeta_47*zeta_47.conjugate()).numerator()\n",
    "f_3 = (alpha_57 - zeta_57*zeta_57.conjugate()).numerator()\n",
    "\n",
    "R = PolynomialRing(CC, [A,c,s,a_27,b_27,a_67,b_67])\n",
    "I = R.ideal([f_1,f_2,f_3,c**2+s**2-1])\n",
    "B = I.groebner_basis()\n",
    "\n",
    "for pol in B:\n",
    "    print pol"
   ]
  },
  {
   "cell_type": "code",
   "execution_count": null,
   "metadata": {},
   "outputs": [],
   "source": []
  }
 ],
 "metadata": {
  "kernelspec": {
   "display_name": "SageMath 8.7",
   "language": "",
   "name": "sagemath"
  },
  "language_info": {
   "codemirror_mode": {
    "name": "ipython",
    "version": 2
   },
   "file_extension": ".py",
   "mimetype": "text/x-python",
   "name": "python",
   "nbconvert_exporter": "python",
   "pygments_lexer": "ipython2",
   "version": "2.7.15"
  }
 },
 "nbformat": 4,
 "nbformat_minor": 2
}
