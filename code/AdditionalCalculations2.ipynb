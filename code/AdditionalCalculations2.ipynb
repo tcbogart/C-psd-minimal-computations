{
 "cells": [
  {
   "cell_type": "code",
   "execution_count": 14,
   "metadata": {},
   "outputs": [
    {
     "data": {
      "text/plain": [
       "[              0               0             b/a (b + 1)/(a + 1)               1               1]\n",
       "[              1               0               0 (a - b)/(a + 1)               a           a + 1]\n",
       "[          b + 1               b               0               0               b           b + 1]\n",
       "[      a*(b + 1)       (a + 1)*b     (a - b)*b/a               0               0           a - b]\n",
       "[              1               1       (a - b)/a (a - b)/(a + 1)               0               0]\n",
       "[              0               1           b + 1           b + 1               1               0]"
      ]
     },
     "execution_count": 14,
     "metadata": {},
     "output_type": "execute_result"
    }
   ],
   "source": [
    "var('b')\n",
    "assume(b>0)\n",
    "var('a')\n",
    "assume(a>b)\n",
    "S = Matrix([[0,0,b/a,(1+b)/(1+a),1,1],[1,0,0,(a-b)/(1+a),a,1+a],[1+b,b,0,0,b,1+b],[a*(1+b),(1+a)*b,b*(a-b)/a,0,0,a-b],[1,1,(a-b)/a,(a-b)/(1+a),0,0],[0,1,1+b,1+b,1,0]])\n",
    "S"
   ]
  },
  {
   "cell_type": "code",
   "execution_count": 15,
   "metadata": {},
   "outputs": [
    {
     "data": {
      "text/plain": [
       "[                        0                         0                         1                       1/a       (a - b)/(a*(b + 1))                         1]\n",
       "[                        1                         0                         0                         1                         a (a + 1)*a*(b + 1)/(a - b)]\n",
       "[                (b + 1)/b                         1                         0                         0                         1   a*(b + 1)^2/((a - b)*b)]\n",
       "[                        1     (a + 1)*b/(a*(b + 1))                         1                         0                         0                         1]\n",
       "[                        1                         1               a*(b + 1)/b                         1                         0                         0]\n",
       "[                        0                         1 a^2*(b + 1)^2/((a - b)*b)   (a + 1)*(b + 1)/(a - b)                         1                         0]"
      ]
     },
     "execution_count": 15,
     "metadata": {},
     "output_type": "execute_result"
    }
   ],
   "source": [
    "# It creates a diagonal 6x6 matrix with the value x in the entry (k,k) and ones elsewhere in the diagonal\n",
    "def scale(x,k):\n",
    "    L = [[int(i == j) for j in range(6)] for i in range(6)]\n",
    "    L[k-1][k-1] = x\n",
    "    return Matrix(L)\n",
    "\n",
    "# Scaling:\n",
    "# entry (6,5) by scaling column 5\n",
    "# entry (3,5) by scaling row 3\n",
    "# entry (3,2) by scaling column 2\n",
    "# entry (5,2) by scaling row 5\n",
    "# entry (5,4) by scaling column 4\n",
    "# entry (2,4) by scaling row 2\n",
    "# entry (2,1) by scaling column 1\n",
    "# entry (4,1) by scaling row 4\n",
    "# entry (4,3) by scaling column 3\n",
    "# entry (1,3) by scaling row 1\n",
    "# entry (1,6) by scaling column 6\n",
    "def scaling(A):\n",
    "    A1 = A * scale(1/A[5,4],5)\n",
    "    A2 = scale(1/A1[2,4],3) * A1\n",
    "    A3 = A2 * scale(1/A2[2,1],2)\n",
    "    A4 = scale(1/A3[4,1],5) * A3\n",
    "    A5 = A4 * scale(1/A4[4,3],4)\n",
    "    A6 = scale(1/A5[1,3],2) * A5\n",
    "    A7 = A6 * scale(1/A6[1,0],1)\n",
    "    A8 = scale(1/A7[3,0],4) * A7\n",
    "    A9 = A8 * scale(1/A8[3,2],3)\n",
    "    A10 = scale(1/A9[0,2],1) * A9\n",
    "    A11 = A10 * scale(1/A10[0,5],6)\n",
    "    return A11\n",
    "\n",
    "S_ab = scaling(S)\n",
    "S_ab"
   ]
  },
  {
   "cell_type": "code",
   "execution_count": 16,
   "metadata": {},
   "outputs": [
    {
     "data": {
      "text/plain": [
       "[                                    0                                     0                                     1                                   1/a                     (a - b)/(a*b + a)                                     1]\n",
       "[                                    1                                     0                                     0                                     1                                     a       (a^2 + (a^2 + a)*b + a)/(a - b)]\n",
       "[                            (b + 1)/b                                     1                                     0                                     0                                     1       (a*b^2 + 2*a*b + a)/(a*b - b^2)]\n",
       "[                                    1                   (a + 1)*b/(a*b + a)                                     1                                     0                                     0                                     1]\n",
       "[                                    1                                     1                           (a*b + a)/b                                     1                                     0                                     0]\n",
       "[                                    0                                     1 (a^2*b^2 + 2*a^2*b + a^2)/(a*b - b^2)           ((a + 1)*b + a + 1)/(a - b)                                     1                                     0]"
      ]
     },
     "execution_count": 16,
     "metadata": {},
     "output_type": "execute_result"
    }
   ],
   "source": [
    "xi_1 = sqrt(a)*I\n",
    "xi_2 = (a-b)/(a*(1+b)) + sqrt((1+a)*b*(a-b))*I/(a*(1+b))\n",
    "M = Matrix([[0,0,1,1/xi_1,xi_2,1],[1,0,0,1,xi_1,(1+xi_1)/xi_2],[(1+xi_1)/(xi_1*(1-xi_2)),1,0,0,1,(1+xi_1)/(xi_1*xi_2*(1-xi_2))],[1,1-xi_2,1,0,0,1],[1,1,(1+xi_1)/(1-xi_2),1,0,0],[0,1,(1+xi_1)/(xi_2*(1-xi_2)),(1+xi_1)/(xi_1*xi_2),1,0]])\n",
    "M.elementwise_product(M.conjugate()).simplify_full()"
   ]
  },
  {
   "cell_type": "code",
   "execution_count": 17,
   "metadata": {},
   "outputs": [
    {
     "data": {
      "text/plain": [
       "3"
      ]
     },
     "execution_count": 17,
     "metadata": {},
     "output_type": "execute_result"
    }
   ],
   "source": [
    "M.rank()"
   ]
  },
  {
   "cell_type": "code",
   "execution_count": 18,
   "metadata": {},
   "outputs": [
    {
     "name": "stdout",
     "output_type": "stream",
     "text": [
      "[                             0                              0                              1                          1/z_1                            z_2                              1]\n",
      "[                             1                              0                              0                              1                            z_1                  (z_1 + 1)/z_2]\n",
      "[    -(z_1 + 1)/(z_1*(z_2 - 1))                              1                              0                              0                              1 -(z_1 + 1)/(z_1*(z_2 - 1)*z_2)]\n",
      "[                             1                       -z_2 + 1                              1                              0                              0                              1]\n",
      "[                             1                              1           -(z_1 + 1)/(z_2 - 1)                              1                              0                              0]\n",
      "[                             0                              1     -(z_1 + 1)/((z_2 - 1)*z_2)            (z_1 + 1)/(z_1*z_2)                              1                              0]\n"
     ]
    },
    {
     "data": {
      "text/plain": [
       "{0}"
      ]
     },
     "execution_count": 18,
     "metadata": {},
     "output_type": "execute_result"
    }
   ],
   "source": [
    "var('z_1')\n",
    "var('z_2')\n",
    "M = Matrix([[0,0,1,1/z_1,z_2,1],[1,0,0,1,z_1,(1+z_1)/z_2],[(1+z_1)/(z_1*(1-z_2)),1,0,0,1,(1+z_1)/(z_1*z_2*(1-z_2))],[1,1-z_2,1,0,0,1],[1,1,(1+z_1)/(1-z_2),1,0,0],[0,1,(1+z_1)/(z_2*(1-z_2)),(1+z_1)/(z_1*z_2),1,0]])\n",
    "print M\n",
    "four_minors = set()\n",
    "for pol in M.minors(4):\n",
    "    four_minors.add(pol.simplify_full())\n",
    "four_minors  "
   ]
  },
  {
   "cell_type": "code",
   "execution_count": null,
   "metadata": {},
   "outputs": [],
   "source": []
  }
 ],
 "metadata": {
  "kernelspec": {
   "display_name": "SageMath 8.7",
   "language": "",
   "name": "sagemath"
  },
  "language_info": {
   "codemirror_mode": {
    "name": "ipython",
    "version": 2
   },
   "file_extension": ".py",
   "mimetype": "text/x-python",
   "name": "python",
   "nbconvert_exporter": "python",
   "pygments_lexer": "ipython2",
   "version": "2.7.15"
  }
 },
 "nbformat": 4,
 "nbformat_minor": 2
}
